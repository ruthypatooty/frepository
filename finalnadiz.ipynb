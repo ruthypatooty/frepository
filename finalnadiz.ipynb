{
 "cells": [
  {
   "cell_type": "code",
   "execution_count": null,
   "metadata": {},
   "outputs": [],
   "source": [
    "import pandas as pd\n",
    "import os\n",
    "import re\n",
    "from datetime import datetime"
   ]
  },
  {
   "cell_type": "code",
   "execution_count": null,
   "metadata": {},
   "outputs": [],
   "source": [
    "directory = r\"C:\\Users\\ruthmae.deguzman\\Documents\\Python Scripts\\Global ITSM\\New ITSM\\2021\\October2021\"\n",
    "\n",
    "file_list = [file for file in os.listdir(directory) if file.endswith('.xlsx') and not file.__contains__('Ticket') and not file.startswith('~$') and not file.startswith('IS IT')]\n",
    "dfs = {}\n",
    "for file in file_list:\n",
    "    file_path = os.path.join(directory, file)\n",
    "    try:\n",
    "        df = pd.read_excel(file_path, engine='openpyxl')\n",
    "        dfs[file] = (df, df.shape)\n",
    "    except Exception as e:\n",
    "        print(f\"Error reading file '(file)': (e)\")\n",
    "\n",
    "#for file, (df, shape) in dfs.items()\n",
    "#   print(f\"Data from file '{file}':\")\n",
    "#   print(f\"Shape: (shape)\")\n",
    "#   print('\\n')"
   ]
  },
  {
   "cell_type": "code",
   "execution_count": null,
   "metadata": {},
   "outputs": [],
   "source": [
    "directory = r\"C:\\Users\\ruthmae.deguzman\\Documents\\Python Scripts\\Global ITSM\\New ITSM\\2021\\November 2021\"\n",
    "\n",
    "file_list = [file for file in os.listdir(directory) if file.endswith('.xlsx') and not file.__contains__('Commendations') and not file.__contains__('Category') and not file.startswith('~$') and not file.startswith('Ticket')]\n",
    "dfs = {}\n",
    "for file in file_list:\n",
    "    file_path = os.path.join(directory, file)\n",
    "    try:\n",
    "        df = pd.read_excel(file_path, engine='openpyxl')\n",
    "        dfs[file] = (df, df.shape)\n",
    "    except Exception as e:\n",
    "        print(f\"Error reading '(file)': {e}\")\n",
    "\n",
    "#for file, (df, shape) in dfs.items():\n",
    "#   print(f\"Data from file '{file}': \")\n",
    "#   print(f\"Shape: (shape)\")\n",
    "#   print('\\n')"
   ]
  },
  {
   "cell_type": "code",
   "execution_count": null,
   "metadata": {},
   "outputs": [],
   "source": [
    "directory = r\"C:\\Users\\ruthmae.deguzman\\Documents\\Python Scripts\\Global ITSM\\New ITSM\\2021\\January 2022\"\n",
    "\n",
    "file_list = [file for file in os.listdir(directory) if file.endswith('.xslx') and not file.__contains__('Dashboards') and not file.__contains__('Category') and not file.startswith('~$') and not file.startswith('Ticket')]\n",
    "dfs = {}\n",
    "for file in file_list:\n",
    "    file_path = os.path.join(directory, file)\n",
    "    try:\n",
    "        df = pd.read_excel(file_path, engine='openpyxl')\n",
    "        dfs[file] = (df, df.shape)\n",
    "    except Exception as e:\n",
    "        print(f\"Error reading '(file)': {e}\")\n",
    "\n",
    "#for file, (df, shape) in dfs.items():\n",
    "#   print(f\"Data from file '{file}': \")\n",
    "#   print(f\"Shape: (shape)\")\n",
    "#   print('\\n')"
   ]
  },
  {
   "cell_type": "code",
   "execution_count": null,
   "metadata": {},
   "outputs": [],
   "source": [
    "directory = r\"C:\\Users\\ruthmae.deguzman\\Documents\\Python Scripts\\Global ITSM\\New ITSM\\2021\\February 2022\"\n",
    "\n",
    "file_list = [file for file in os.listdir(directory) if file.endswith('.xslx') and not file.__contains__('Dashboards') and not file.__contains__('Category') and not file.startswith('~$') and not file.startswith('Ticket')]\n",
    "dfs = {}\n",
    "for file in file_list:\n",
    "    file_path = os.path.join(directory, file)\n",
    "    try:\n",
    "        df = pd.read_excel(file_path, engine='openpyxl')\n",
    "        dfs[file] = (df, df.shape)\n",
    "    except Exception as e:\n",
    "        print(f\"Error reading '(file)': {e}\")\n",
    "\n",
    "#for file, (df, shape) in dfs.items():\n",
    "#   print(f\"Data from file '{file}': \")\n",
    "#   print(f\"Shape: (shape)\")\n",
    "#   print('\\n')"
   ]
  },
  {
   "cell_type": "code",
   "execution_count": null,
   "metadata": {},
   "outputs": [],
   "source": [
    "directory = r\"C:\\Users\\ruthmae.deguzman\\Documents\\Python Scripts\\Global ITSM\\New ITSM\\2021\\March 2022\"\n",
    "\n",
    "file_list = [file for file in os.listdir(directory) if file.endswith('.xslx') and not file.__contains__('Dashboards') and not file.__contains__('Category') and not file.startswith('~$') and not file.startswith('Ticket')]\n",
    "dfs = {}\n",
    "for file in file_list:\n",
    "    file_path = os.path.join(directory, file)\n",
    "    try:\n",
    "        df = pd.read_excel(file_path, engine='openpyxl')\n",
    "        dfs[file] = (df, df.shape)\n",
    "    except Exception as e:\n",
    "        print(f\"Error reading '(file)': {e}\")\n",
    "\n",
    "#for file, (df, shape) in dfs.items():\n",
    "#   print(f\"Data from file '{file}': \")\n",
    "#   print(f\"Shape: (shape)\")\n",
    "#   print('\\n')"
   ]
  },
  {
   "cell_type": "code",
   "execution_count": null,
   "metadata": {},
   "outputs": [],
   "source": [
    "directory = r\"C:\\Users\\ruthmae.deguzman\\Documents\\Python Scripts\\Global ITSM\\New ITSM\\2021\\April 2022\"\n",
    "\n",
    "file_list = [file for file in os.listdir(directory) if file.endswith('.xslx') and not file.__contains__('Dashboards') and not file.__contains__('Category') and not file.startswith('~$') and not file.startswith('Ticket')]\n",
    "dfs = {}\n",
    "for file in file_list:\n",
    "    file_path = os.path.join(directory, file)\n",
    "    try:\n",
    "        df = pd.read_excel(file_path, engine='openpyxl')\n",
    "        dfs[file] = (df, df.shape)\n",
    "    except Exception as e:\n",
    "        print(f\"Error reading '(file)': {e}\")\n",
    "\n",
    "#for file, (df, shape) in dfs.items():\n",
    "#   print(f\"Data from file '{file}': \")\n",
    "#   print(f\"Shape: (shape)\")\n",
    "#   print('\\n')"
   ]
  },
  {
   "cell_type": "code",
   "execution_count": null,
   "metadata": {},
   "outputs": [],
   "source": [
    "directory = r\"C:\\Users\\ruthmae.deguzman\\Documents\\Python Scripts\\Global ITSM\\New ITSM\\2021\\May 2022\"\n",
    "\n",
    "file_list = [file for file in os.listdir(directory) if file.endswith('.xslx') and not file.__contains__('Ticket') and not file.__contains__('Category') and not file.startswith('~$') and not file.startswith('Ticket')]\n",
    "dfs = {}\n",
    "for file in file_list:\n",
    "    file_path = os.path.join(directory, file)\n",
    "    try:\n",
    "        df = pd.read_excel(file_path, engine='openpyxl')\n",
    "        dfs[file] = (df, df.shape)\n",
    "    except Exception as e:\n",
    "        print(f\"Error reading '(file)': {e}\")\n",
    "\n",
    "#for file, (df, shape) in dfs.items():\n",
    "#   print(f\"Data from file '{file}': \")\n",
    "#   print(f\"Shape: (shape)\")\n",
    "#   print('\\n')"
   ]
  },
  {
   "cell_type": "code",
   "execution_count": null,
   "metadata": {},
   "outputs": [],
   "source": [
    "directory = r\"C:\\Users\\ruthmae.deguzman\\Documents\\Python Scripts\\Global ITSM\\New ITSM\\2021\\June 2022\"\n",
    "\n",
    "file_list = [file for file in os.listdir(directory) if file.endswith('.xslx') and not file.__contains__('Ticket') and not file.__contains__('Category') and not file.startswith('~$') and not file.startswith('Ticket')]\n",
    "dfs = {}\n",
    "for file in file_list:\n",
    "    file_path = os.path.join(directory, file)\n",
    "    try:\n",
    "        df = pd.read_excel(file_path, engine='openpyxl')\n",
    "        dfs[file] = (df, df.shape)\n",
    "    except Exception as e:\n",
    "        print(f\"Error reading '(file)': {e}\")\n",
    "\n",
    "#for file, (df, shape) in dfs.items():\n",
    "#   print(f\"Data from file '{file}': \")\n",
    "#   print(f\"Shape: (shape)\")\n",
    "#   print('\\n')"
   ]
  },
  {
   "cell_type": "code",
   "execution_count": null,
   "metadata": {},
   "outputs": [],
   "source": [
    "directory = r\"C:\\Users\\ruthmae.deguzman\\Documents\\Python Scripts\\Global ITSM\\New ITSM\\2021\\July 2022\"\n",
    "\n",
    "file_list = [file for file in os.listdir(directory) if file.endswith('.xslx') and not file.__contains__('Ticket') and not file.__contains__('Category') and not file.startswith('~$') and not file.startswith('Ticket')]\n",
    "dfs = {}\n",
    "for file in file_list:\n",
    "    file_path = os.path.join(directory, file)\n",
    "    try:\n",
    "        df = pd.read_excel(file_path, engine='openpyxl')\n",
    "        dfs[file] = (df, df.shape)\n",
    "    except Exception as e:\n",
    "        print(f\"Error reading '(file)': {e}\")\n",
    "\n",
    "#for file, (df, shape) in dfs.items():\n",
    "#   print(f\"Data from file '{file}': \")\n",
    "#   print(f\"Shape: (shape)\")\n",
    "#   print('\\n')"
   ]
  },
  {
   "cell_type": "code",
   "execution_count": null,
   "metadata": {},
   "outputs": [],
   "source": [
    "directory = r\"C:\\Users\\ruthmae.deguzman\\Documents\\Python Scripts\\Global ITSM\\New ITSM\\2021\\August 2022\"\n",
    "\n",
    "file_list = [file for file in os.listdir(directory) if file.endswith('.xslx') and not file.__contains__('Dashboard') and not file.__contains__('Category') and not file.startswith('~$') and not file.startswith('Ticket')]\n",
    "dfs = {}\n",
    "for file in file_list:\n",
    "    file_path = os.path.join(directory, file)\n",
    "    try:\n",
    "        df = pd.read_excel(file_path, engine='openpyxl')\n",
    "        dfs[file] = (df, df.shape)\n",
    "    except Exception as e:\n",
    "        print(f\"Error reading '(file)': {e}\")\n",
    "\n",
    "#for file, (df, shape) in dfs.items():\n",
    "#   print(f\"Data from file '{file}': \")\n",
    "#   print(f\"Shape: (shape)\")\n",
    "#   print('\\n')"
   ]
  },
  {
   "cell_type": "code",
   "execution_count": null,
   "metadata": {},
   "outputs": [],
   "source": [
    "directory = r\"C:\\Users\\ruthmae.deguzman\\Documents\\Python Scripts\\Global ITSM\\New ITSM\\2021\\September 2022\"\n",
    "\n",
    "file_list = [file for file in os.listdir(directory) if file.endswith('.xlsx') and not file.startswith('~$') and not file.startswith('IS IT')]\n",
    "dfs = {}\n",
    "for file in file_list:\n",
    "    file_path = os.path.join(directory, file)\n",
    "    try:\n",
    "        df = pd.read_excel(file_path, engine='openpyxl')\n",
    "        dfs[file] = (df, df.shape)\n",
    "    except Exception as e:\n",
    "        print(f\"Error reading file '(file)': (e)\")\n",
    "\n",
    "#for file, (df, shape) in dfs.items()\n",
    "#   print(f\"Data from file '{file}':\")\n",
    "#   # display(df)\n",
    "#   print(f\"Shape: (shape)\")\n",
    "#   print('\\n')"
   ]
  },
  {
   "cell_type": "code",
   "execution_count": null,
   "metadata": {},
   "outputs": [],
   "source": [
    "directory = r\"C:\\Users\\ruthmae.deguzman\\Documents\\Python Scripts\\Global ITSM\\New ITSM\\2021\\October 2022\"\n",
    "\n",
    "file_list = [file for file in os.listdir(directory) if file.endswith('.xlsx') and not file.startswith('~$') and not file.startswith('IS IT')]\n",
    "dfs = {}\n",
    "for file in file_list:\n",
    "    file_path = os.path.join(directory, file)\n",
    "    try:\n",
    "        df = pd.read_excel(file_path, engine='openpyxl')\n",
    "        dfs[file] = (df, df.shape)\n",
    "    except Exception as e:\n",
    "        print(f\"Error reading file '(file)': (e)\")\n",
    "\n",
    "#for file, (df, shape) in dfs.items()\n",
    "#   print(f\"Data from file '{file}':\")\n",
    "#   # display(df)\n",
    "#   print(f\"Shape: (shape)\")\n",
    "#   print('\\n')"
   ]
  },
  {
   "cell_type": "code",
   "execution_count": null,
   "metadata": {},
   "outputs": [],
   "source": [
    "directory = r\"C:\\Users\\ruthmae.deguzman\\Documents\\Python Scripts\\Global ITSM\\New ITSM\\2021\\November 2022\"\n",
    "\n",
    "file_list = [file for file in os.listdir(directory) if file.endswith('.xlsx') and not file.startswith('~$') and not file.startswith('IS IT')]\n",
    "dfs = {}\n",
    "for file in file_list:\n",
    "    file_path = os.path.join(directory, file)\n",
    "    try:\n",
    "        df = pd.read_excel(file_path, engine='openpyxl')\n",
    "        dfs[file] = (df, df.shape)\n",
    "    except Exception as e:\n",
    "        print(f\"Error reading file '(file)': (e)\")\n",
    "\n",
    "#for file, (df, shape) in dfs.items()\n",
    "#   print(f\"Data from file '{file}':\")\n",
    "#   # display(df)\n",
    "#   print(f\"Shape: (shape)\")\n",
    "#   print('\\n')"
   ]
  },
  {
   "cell_type": "code",
   "execution_count": null,
   "metadata": {},
   "outputs": [],
   "source": [
    "directory = r\"C:\\Users\\ruthmae.deguzman\\Documents\\Python Scripts\\Global ITSM\\New ITSM\\2021\\December 2022\"\n",
    "\n",
    "file_list = [file for file in os.listdir(directory) if file.endswith('.xlsx') and not file.startswith('~$') and not file.startswith('IS IT')]\n",
    "dfs = {}\n",
    "for file in file_list:\n",
    "    file_path = os.path.join(directory, file)\n",
    "    try:\n",
    "        df = pd.read_excel(file_path, engine='openpyxl')\n",
    "        dfs[file] = (df, df.shape)\n",
    "    except Exception as e:\n",
    "        print(f\"Error reading file '(file)': (e)\")\n",
    "\n",
    "#for file, (df, shape) in dfs.items()\n",
    "#   print(f\"Data from file '{file}':\")\n",
    "#   # display(df)\n",
    "#   print(f\"Shape: (shape)\")\n",
    "#   print('\\n')"
   ]
  },
  {
   "cell_type": "code",
   "execution_count": null,
   "metadata": {},
   "outputs": [],
   "source": [
    "directory = r\"C:\\Users\\ruthmae.deguzman\\Documents\\Python Scripts\\Global ITSM\\New ITSM\\2021\\January 2023\"\n",
    "\n",
    "file_list = [file for file in os.listdir(directory) if file.endswith('.xlsx') and not file.startswith('~$') and not file.startswith('IS IT')]\n",
    "dfs = {}\n",
    "for file in file_list:\n",
    "    file_path = os.path.join(directory, file)\n",
    "    try:\n",
    "        df = pd.read_excel(file_path, engine='openpyxl')\n",
    "        dfs[file] = (df, df.shape)\n",
    "    except Exception as e:\n",
    "        print(f\"Error reading file '(file)': (e)\")\n",
    "\n",
    "#for file, (df, shape) in dfs.items()\n",
    "#   print(f\"Data from file '{file}':\")\n",
    "#   # display(df)\n",
    "#   print(f\"Shape: (shape)\")\n",
    "#   print('\\n')"
   ]
  },
  {
   "cell_type": "code",
   "execution_count": null,
   "metadata": {},
   "outputs": [],
   "source": [
    "directory = r\"C:\\Users\\ruthmae.deguzman\\Documents\\Python Scripts\\Global ITSM\\New ITSM\\2021\\February 2023\"\n",
    "\n",
    "file_list = [file for file in os.listdir(directory) if file.endswith('.xlsx') and not file.startswith('~$') and not file.startswith('IS IT')]\n",
    "dfs = {}\n",
    "for file in file_list:\n",
    "    file_path = os.path.join(directory, file)\n",
    "    try:\n",
    "        df = pd.read_excel(file_path, engine='openpyxl')\n",
    "        dfs[file] = (df, df.shape)\n",
    "    except Exception as e:\n",
    "        print(f\"Error reading file '(file)': (e)\")\n",
    "\n",
    "#for file, (df, shape) in dfs.items()\n",
    "#   print(f\"Data from file '{file}':\")\n",
    "#   # display(df)\n",
    "#   print(f\"Shape: (shape)\")\n",
    "#   print('\\n')"
   ]
  },
  {
   "cell_type": "code",
   "execution_count": null,
   "metadata": {},
   "outputs": [],
   "source": [
    "directory = r\"C:\\Users\\ruthmae.deguzman\\Documents\\Python Scripts\\Global ITSM\\New ITSM\\2021\\March 2023\"\n",
    "\n",
    "file_list = [file for file in os.listdir(directory) if file.endswith('.xlsx') and not file.startswith('~$') and not file.startswith('IS IT')]\n",
    "dfs = {}\n",
    "for file in file_list:\n",
    "    file_path = os.path.join(directory, file)\n",
    "    try:\n",
    "        df = pd.read_excel(file_path, engine='openpyxl')\n",
    "        dfs[file] = (df, df.shape)\n",
    "    except Exception as e:\n",
    "        print(f\"Error reading file '(file)': (e)\")\n",
    "\n",
    "#for file, (df, shape) in dfs.items()\n",
    "#   print(f\"Data from file '{file}':\")\n",
    "#   # display(df)\n",
    "#   print(f\"Shape: (shape)\")\n",
    "#   print('\\n')"
   ]
  },
  {
   "cell_type": "code",
   "execution_count": null,
   "metadata": {},
   "outputs": [],
   "source": [
    "directory = r\"C:\\Users\\ruthmae.deguzman\\Documents\\Python Scripts\\Global ITSM\\New ITSM\\2021\\April 2023\"\n",
    "\n",
    "file_list = [file for file in os.listdir(directory) if file.endswith('.xlsx') and not file.startswith('~$') and not file.startswith('IS IT')]\n",
    "dfs = {}\n",
    "for file in file_list:\n",
    "    file_path = os.path.join(directory, file)\n",
    "    try:\n",
    "        df = pd.read_excel(file_path, engine='openpyxl')\n",
    "        dfs[file] = (df, df.shape)\n",
    "    except Exception as e:\n",
    "        print(f\"Error reading file '(file)': (e)\")\n",
    "\n",
    "#for file, (df, shape) in dfs.items()\n",
    "#   print(f\"Data from file '{file}':\")\n",
    "#   # display(df)\n",
    "#   print(f\"Shape: (shape)\")\n",
    "#   print('\\n')"
   ]
  },
  {
   "cell_type": "code",
   "execution_count": null,
   "metadata": {},
   "outputs": [],
   "source": [
    "directory = r\"C:\\Users\\ruthmae.deguzman\\Documents\\Python Scripts\\Global ITSM\\New ITSM\\2021\\May 2023\"\n",
    "\n",
    "file_list = [file for file in os.listdir(directory) if file.endswith('.xslx') and not file.__contains__('Commendations') and not file.startswith('~$') and not file.startswith('IS IT')]\n",
    "dfs = {}\n",
    "for file in file_list:\n",
    "    file_path = os.path.join(directory, file)\n",
    "    try:\n",
    "        df = pd.read_excel(file_path, engine='openpyxl')\n",
    "        dfs[file] = (df, df.shape)\n",
    "    except Exception as e:\n",
    "        print(f\"Error reading '(file)': {e}\")\n",
    "\n",
    "#for file, (df, shape) in dfs.items():\n",
    "#   print(f\"Data from file '{file}': \")\n",
    "#   # display(df)\n",
    "#   print(f\"Shape: (shape)\")\n",
    "#   print('\\n')"
   ]
  },
  {
   "cell_type": "code",
   "execution_count": null,
   "metadata": {},
   "outputs": [],
   "source": [
    "directory = r\"C:\\Users\\ruthmae.deguzman\\Documents\\Python Scripts\\Global ITSM\\New ITSM\\2021\\June 2023\"\n",
    "\n",
    "file_list = [file for file in os.listdir(directory) if file.endswith('.xslx') and not file.__contains__('Commendations') and not file.startswith('~$') and not file.startswith('IS IT')]\n",
    "dfs = {}\n",
    "for file in file_list:\n",
    "    file_path = os.path.join(directory, file)\n",
    "    try:\n",
    "        df = pd.read_excel(file_path, engine='openpyxl')\n",
    "        dfs[file] = (df, df.shape)\n",
    "    except Exception as e:\n",
    "        print(f\"Error reading '(file)': {e}\")\n",
    "\n",
    "#for file, (df, shape) in dfs.items():\n",
    "#   print(f\"Data from file '{file}': \")\n",
    "#   # display(df)\n",
    "#   print(f\"Shape: (shape)\")\n",
    "#   print('\\n')"
   ]
  },
  {
   "cell_type": "code",
   "execution_count": null,
   "metadata": {},
   "outputs": [],
   "source": [
    "parent_directory = r\"C:\\Users\\ruthmae.deguzman\\Documents\\Python Scripts\\Global ITSM\\New ITSM\"\n",
    "\n",
    "dfs_all = {}\n",
    "\n",
    "for year_directory, _, files in os.walk(parent_directy):\n",
    "    for file in files: \n",
    "        if file.endswith(('.xslx') and not file.startwith('~$') and not file.__contains__('Commendations') and not file.startwith('Ticket') and not file.__contains__('Dashboard')):\n",
    "            file_path = os.path.join(year_directory, file)\n",
    "            df = pd.read_excel(file_path, engine='openpyxl')\n",
    "            dfs[file] = (df, df.shape)\n",
    "            \n",
    "            print(f\"Data from file '{file}': \")\n",
    "            print(f\"Shape: {df.shape}\")\n",
    "            print('\\n')\n",
    "\n",
    "# Display the overall shape information for all DataFrames combined\n",
    "total_rows = sum(shape[0] for _, (_, shape) in dfs_all.items())\n",
    "total_columns = sum(shape[1] for _, (_, shape) in dfs_all.items())\n",
    "print(f\"Total rows from all DataFrames: {total_rows}\")\n",
    "print(f\"Total columns from all DataFrames: {total_columns}\")"
   ]
  },
  {
   "cell_type": "code",
   "execution_count": null,
   "metadata": {},
   "outputs": [],
   "source": [
    "def show_original_columns (parent_directory):\n",
    "    dfs_all = {}\n",
    "    count = 1\n",
    "    for first_level, _, files in os.walk(parent_directory):\n",
    "\n",
    "        for file in files:\n",
    "            file_path = os.path.join(first_level, file)\n",
    "            if file_path.lower().endswith('.xlxs' and not file.startswith('~$') and not file.__contains__('Commendations') and not file.startwith('Ticket') and not file.__contains__('Dashboard') and not file.__contains__('Category')):\n",
    "                df = pd.read_excel(file_path, engine='openpyxl', sheet_name=None)\n",
    "\n",
    "                for sheet_name, df in df.items():\n",
    "                    col_names = df.columns\n",
    "                    unnamed_col = [col for col in col_names if 'Unnamed' in str(col)]\n",
    "                    if not unnamed_col and df.shape[1] > 4:\n",
    "                        dfs_all[file, sheet_name] = (df, sheet_name, col_names)\n",
    "\n",
    "                        print(count)\n",
    "                        count += 1\n",
    "                        print(file, sheet_name)\n",
    "                        print(col_names)\n",
    "\n",
    "            # Increment count for the next file"
   ]
  },
  {
   "cell_type": "code",
   "execution_count": null,
   "metadata": {},
   "outputs": [],
   "source": [
    "show_original_columns(parent_directory)"
   ]
  },
  {
   "cell_type": "code",
   "execution_count": null,
   "metadata": {},
   "outputs": [],
   "source": [
    "#incidents\n",
    "columns_to_delete = ['Report Date', 'Month', 'Operational Categorization Tier 1',\n",
    "                    'Operational Categorization Tier 2', 'Operational Categorization Tier 3',\n",
    "                    'Service Request ID', 'Assigned Support Organization', 'Customer Site Country', 'Requested For Company','', 'Task ID']\n",
    "                    #'Work Order ID',"
   ]
  },
  {
   "cell_type": "code",
   "execution_count": null,
   "metadata": {},
   "outputs": [],
   "source": [
    "def delete_columns_from_sheet (parent_directory, columns_to_delete):\n",
    "    dfs_all = {}\n",
    "    \n",
    "    for first_level, _, files in os.walk(parent_directory):\n",
    "        for file in files:\n",
    "            file_path = os.path.join(first_level, file)\n",
    "            if file_path.lower().endswith('.xlxs' and not file.startswith('~$') and not file.__contains__('Commendations') and not file.startwith('Ticket') and not file.__contains__('Dashboard') and not file.__contains__('Category')):\n",
    "                df_dict = pd.read_excel(file_path, engine='openpyxl', sheet_name=None)\n",
    "                for sheet_name, df in df_dict.items():\n",
    "                    unnamed_col = [col for col in columns_to_delete if col in df.columns]\n",
    "                    modified_df = df.drop(columns=columns_to_drop, errors='ignore')\n",
    "                    #print(f\"File: '{file}', Sheet: '{sheet_name}', {modified_df.columns.tolist()}\")\n",
    "                    #After modifying the DataFrame\n",
    "                    dfs_all[file, sheet_name] = modified_df\n",
    "                    print(dfs_all.keys())\n",
    "                    print(dfs_all.values())\n",
    "\n",
    "    return dfs_all"
   ]
  },
  {
   "cell_type": "code",
   "execution_count": null,
   "metadata": {},
   "outputs": [],
   "source": [
    "dfs_all = delete_columns_from_sheet(parent_directory, columns_to_delete)\n",
    "print(dfs_all)"
   ]
  },
  {
   "cell_type": "code",
   "execution_count": null,
   "metadata": {},
   "outputs": [],
   "source": [
    "def rename_columns(dfs_all):\n",
    "    count = 1\n",
    "    for (file, sheet_name), df in dfs_all.items():\n",
    "    #print(f\"File: '{file}', Sheet: '{sheet_name}'\"), \n",
    "    df.columns = df.columns.str.lower().str.strip()\n",
    "    new_column_names = {\n",
    "        'requested for first name': 'customer first name',\n",
    "        'requested for last name': 'customer last name',\n",
    "        'requested assignee': 'assignee',\n",
    "        'assigned support group name': 'assigned support group',\n",
    "        'completion date': 'last resolved date',\n",
    "        'work order id': 'id',\n",
    "        'incident id': 'id',\n",
    "        '': 'empty',\n",
    "\n",
    "    } \n",
    "    old_name = {\n",
    "        'requested for first name'\n",
    "        'requested for last name'\n",
    "        'requested assignee'\n",
    "        'assigned support group name'\n",
    "        'completion date'\n",
    "        'work order id'\n",
    "        'incident id'\n",
    "        ''\n",
    "\n",
    "    }\n",
    "    for col in df.columns:\n",
    "        col_str = str(col).strip()\n",
    "        if col_str in old_name:\n",
    "            # print(count)\n",
    "            # count += 1\n",
    "            #print(f\"Found in File: '{file}', Sheet: '{sheet_name}', Column: {col_str}\")\n",
    "        # else:\n",
    "            #print(f\"Not Found in File: '{file}', Sheet: '{sheet_name}', Column: {col_str}\")\n",
    "\n",
    "    dfs_all[(file, sheet_name)] = df\n",
    "    # print(dfs_all)\n",
    "return dfs_all"
   ]
  },
  {
   "cell_type": "code",
   "execution_count": null,
   "metadata": {},
   "outputs": [],
   "source": [
    "dfs_all = rename_columns(dfs_all)\n",
    "print(dfs_all.keys())\n",
    "print(dfs_all.values())\n",
    "# count = 1\n",
    "#for (file_name, sheet_name) modified_df in dfs_all.items():\n",
    "\n",
    "#   print(count)\n",
    "#   count+= 1\n",
    "#   print(f\"File: '{file}', Sheet: '{sheet_name}' new DataFrame: \")\n",
    "#   print(modified_df)\n",
    "#print(type(dfs_all))"
   ]
  },
  {
   "cell_type": "code",
   "execution_count": null,
   "metadata": {},
   "outputs": [],
   "source": [
    "def drop_duplicates_columns(dfs, all):\n",
    "    for key,df in dfs_all.items():\n",
    "        dfs_all[key] = df.drop_duplicates()\n",
    "    return dfs_all"
   ]
  },
  {
   "cell_type": "code",
   "execution_count": null,
   "metadata": {},
   "outputs": [],
   "source": [
    "def find_nan_values(dfs_all):\n",
    "    for(file_name, sheet_name), df in dfs_all.items():\n",
    "    print(f\"File: '{file}', Sheet: '{sheet_name}'\") \n",
    "    col_name = 'customer first name'\n",
    "    if col_name in df.columns:\n",
    "        nan_count = df[col_name].isna().sum()\n",
    "        print(f\"Nan Count in '{col_name}': {nan_count}\")\n",
    "    else:\n",
    "        print(f\"'{col_name}' not found in this DataFrame.\")\n"
   ]
  },
  {
   "cell_type": "code",
   "execution_count": null,
   "metadata": {},
   "outputs": [],
   "source": [
    "find_nan_values(dfs_all)"
   ]
  },
  {
   "cell_type": "code",
   "execution_count": null,
   "metadata": {},
   "outputs": [],
   "source": [
    "def merge_df(dfs_all):\n",
    "    dfs_list = list(dfs_all.values())\n",
    "    # Display the list of DataFrames\n",
    "    # for idx, df in enumerate(dfs_list):\n",
    "\n",
    "    #       print(f\"DataFrame {idx + 1}: \")\n",
    "    #       print(df)\n",
    "            # print(\"\\n\" + \"=\"*30 + \"\\n\")\n",
    "    new_df = pd.concat(dfs_list, ignore_index=True, axis=0)\n",
    "    column_order = ['incident id', 'customer first name', 'customer last name', 'summary', 'priority', 'status', 'assigned support group', 'assignee', 'submit date', 'last resolved date', ]\n",
    "    # display(new_df)\n",
    "    dfs_all=new_df\n",
    "    return dfs_all"
   ]
  },
  {
   "cell_type": "code",
   "execution_count": null,
   "metadata": {},
   "outputs": [],
   "source": [
    "dfs_all = merge_df(dfs_all)"
   ]
  },
  {
   "cell_type": "code",
   "execution_count": null,
   "metadata": {},
   "outputs": [],
   "source": [
    "nan_rows = dfs_all[dfs_all['customer first name'].isna()]\n",
    "# display nan_rows\n",
    "dfs_all.shape"
   ]
  },
  {
   "cell_type": "code",
   "execution_count": null,
   "metadata": {},
   "outputs": [],
   "source": [
    "unique_statuses = dfs_all['status'].unique()\n",
    "print(unique_statuses)"
   ]
  },
  {
   "cell_type": "code",
   "execution_count": null,
   "metadata": {},
   "outputs": [],
   "source": [
    "today = pd.Timestamp(datetime.now().date())\n",
    "if 'last resolved date' in dfs_all.columns:\n",
    "    if dfs_all['last resolved date'].isna().any()\n",
    "        dfs_all['Resolution time(days)'] = (today - dfs_all['submit date']).dt.days\n",
    "    else:\n",
    "        dfs_all['Resolution time(days)'] = (dfs_all['last resolved date'] - dfs_all['submit date']).dt.days\n",
    "    dfs_all_sorted = dfs_all.sort_values(by='Resolution time(days)', ascending=False)\n",
    "    pd.options.display.float_format = '{:,.0f}'.format\n",
    "else:\n",
    "    print(\"The 'last resolved date' column is missing.\")"
   ]
  },
  {
   "cell_type": "code",
   "execution_count": null,
   "metadata": {},
   "outputs": [],
   "source": [
    "dfs_all_sorted_by_name = dfs_all.sort_values(by='id', ascending=True)\n",
    "duplicate_rows = dfs_all_sorted_by_name.duplicate(subset=['id', 'customer first name', 'customer last name', 'submit date', 'summary'], keep=\"last\")\n",
    "\n",
    "display(dfs_all_sorted_by_name[duplicate_rows])\n",
    "dfs_all_sorted_by_name.duplicated(subset=['id', 'customer first name', 'customer last name', 'submit date', 'summary'], keep=\"last\").sum()\n",
    "# duplicate_rows.head()"
   ]
  },
  {
   "cell_type": "code",
   "execution_count": null,
   "metadata": {},
   "outputs": [],
   "source": [
    "dfs_all['status'] = dfs_all['status'].replace('Canceled', 'Cancelled')"
   ]
  },
  {
   "cell_type": "code",
   "execution_count": null,
   "metadata": {},
   "outputs": [],
   "source": [
    "unique_status_count = dfs_all['status'].unique()\n",
    "print(unique_status_count)"
   ]
  },
  {
   "cell_type": "code",
   "execution_count": null,
   "metadata": {},
   "outputs": [],
   "source": [
    "dfs_all = dfs_all.drop_duplicates(subset=['id', 'customer first name', 'customer last name', 'submit date', 'summary'], keep=\"last\")\n",
    "dfs_all.shape\n",
    "# display(dfs_all)\n",
    "show_sorted = dfs_all.sort_values(by='Resolution time(days)', ascending=True)\n",
    "show_sorted.head()"
   ]
  },
  {
   "cell_type": "code",
   "execution_count": null,
   "metadata": {},
   "outputs": [],
   "source": [
    "dfs_all['assigned support group'] = (dfs_all['assigned support group'].fillna('')+\n",
    "                                dfs_all['assignee support group name'].fillna(''))\n",
    "\n",
    "dfs_all.drop('assignee support group name', axis=1, inplace=True)"
   ]
  },
  {
   "cell_type": "code",
   "execution_count": null,
   "metadata": {},
   "outputs": [],
   "source": [
    "dfs_all.tail()"
   ]
  },
  {
   "cell_type": "code",
   "execution_count": null,
   "metadata": {},
   "outputs": [],
   "source": [
    "for index, row in dfs_all.iterrows():\n",
    "    if not pd.isna(row['empty']):\n",
    "        print(row['empty'])"
   ]
  },
  {
   "cell_type": "code",
   "execution_count": null,
   "metadata": {},
   "outputs": [],
   "source": [
    "dfs_all.drop(columns=['empty'],inplace=True)\n",
    "dfs_all.tail()"
   ]
  },
  {
   "cell_type": "code",
   "execution_count": null,
   "metadata": {},
   "outputs": [],
   "source": [
    "dfs_all['Details' = dfs_all['notes'].str.extract(r'Details:\\s*{[^\\n]+}', flags=re.IGNORECASE)]\n",
    "# type = incident type\n",
    "# if new line contains word 'type:' get words after that in the same line\n",
    "dfs_all.loc[:, 'Details'] = dfs_all.loc[:,'Details'].str.lower()\n",
    "dfs_all.loc[:, 'assigned support group'] = dfs_all.loc[:, 'assigned support group'].str.lower()"
   ]
  },
  {
   "cell_type": "code",
   "execution_count": null,
   "metadata": {},
   "outputs": [],
   "source": [
    "dfs_all = dfs_all[~dfs_all['id'].duplicated(keep=False) | dfs_all[['notes']].notnull().any(axis=1)]\n",
    "dfs_all"
   ]
  },
  {
   "cell_type": "code",
   "execution_count": null,
   "metadata": {},
   "outputs": [],
   "source": [
    "dfs_all['Resolution time(days)'].describe()"
   ]
  },
  {
   "cell_type": "code",
   "execution_count": null,
   "metadata": {},
   "outputs": [],
   "source": [
    "excel_filename = 'pre.xlxs'\n",
    "dfs_all.to_excel(excel_filename, index=False)\n",
    "print(f\"DataFrame exported to '{excel_filename}'\")"
   ]
  },
  {
   "cell_type": "code",
   "execution_count": null,
   "metadata": {},
   "outputs": [],
   "source": []
  }
 ],
 "metadata": {
  "language_info": {
   "name": "python"
  },
  "orig_nbformat": 4
 },
 "nbformat": 4,
 "nbformat_minor": 2
}
